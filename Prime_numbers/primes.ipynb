{
  "nbformat": 4,
  "nbformat_minor": 0,
  "metadata": {
    "colab": {
      "provenance": []
    },
    "kernelspec": {
      "name": "python3",
      "display_name": "Python 3"
    },
    "language_info": {
      "name": "python"
    }
  },
  "cells": [
    {
      "cell_type": "markdown",
      "source": [
        "This very simple notebook allow one to play with the numba library, prime numbers and generators"
      ],
      "metadata": {
        "id": "-NmwGDqOvdHo"
      }
    },
    {
      "cell_type": "code",
      "source": [
        "# Numba will function as a decorator that traduces de code and compiles it so it can run faster\n",
        "!pip install numba\n",
        "from numba import njit"
      ],
      "metadata": {
        "id": "yTkSxYvNl96C"
      },
      "execution_count": null,
      "outputs": []
    },
    {
      "cell_type": "code",
      "execution_count": 7,
      "metadata": {
        "id": "k70EFpGmkb4U"
      },
      "outputs": [],
      "source": [
        "@njit\n",
        "def primes() -> int:\n",
        "  \"\"\"Generator that outputs every prime number.\n",
        "  It goes making a list of all prime numbers so the next can be detemined as it'll\n",
        "  be the only one that is not divisible for any of the ones that are already on the list.\n",
        "  The code yields 2 so then can search only the odd numbers and go twice as fast.\"\"\"\n",
        "  yield 2\n",
        "  num = 3\n",
        "  list_of_primes = []\n",
        "  is_prime = True\n",
        "  while True:\n",
        "    for p in list_of_primes:\n",
        "      if num%p == 0:\n",
        "        is_prime = False\n",
        "        break\n",
        "    if is_prime:  \n",
        "      yield num\n",
        "      list_of_primes.append(num)\n",
        "    else:\n",
        "      is_prime = True\n",
        "    num += 2\n",
        "    "
      ]
    },
    {
      "cell_type": "code",
      "source": [
        "@njit\n",
        "def compute_primes_till_n(n):\n",
        "  \"\"\"Generate every prime number lower that n\"\"\"\n",
        "  for p in primes():\n",
        "    if p > n:\n",
        "      break\n",
        "    #print(p) #Uncomment this line if you want to see the primes printed"
      ],
      "metadata": {
        "id": "FwQgRQ5zlnPL"
      },
      "execution_count": 13,
      "outputs": []
    },
    {
      "cell_type": "code",
      "source": [
        "# Run twice so njit can work\n",
        "%time compute_primes_till_n(9999)"
      ],
      "metadata": {
        "colab": {
          "base_uri": "https://localhost:8080/"
        },
        "id": "dtLgtdpjlpSv",
        "outputId": "1cfcac08-0777-4d5e-e521-f51e625177df"
      },
      "execution_count": 15,
      "outputs": [
        {
          "output_type": "stream",
          "name": "stdout",
          "text": [
            "CPU times: user 5.6 ms, sys: 0 ns, total: 5.6 ms\n",
            "Wall time: 5.45 ms\n"
          ]
        }
      ]
    },
    {
      "cell_type": "code",
      "source": [],
      "metadata": {
        "id": "gBAd4UEfrE-K"
      },
      "execution_count": null,
      "outputs": []
    }
  ]
}